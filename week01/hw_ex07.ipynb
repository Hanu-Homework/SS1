{
 "cells": [
  {
   "cell_type": "code",
   "execution_count": null,
   "metadata": {},
   "outputs": [],
   "source": [
    "# Get the amount input from user\n",
    "amount = float(input(\"Enter the amount of purchase: \"))"
   ]
  },
  {
   "cell_type": "code",
   "execution_count": null,
   "metadata": {},
   "outputs": [],
   "source": [
    "# Calculate the state_sales_tax, country_sales_tax, total_sales_tax, total_purchase\n",
    "state_sales_tax = amount * 5 / 100\n",
    "country_sales_tax = amount * 2.5 / 100\n",
    "total_sales_tax = state_sales_tax + country_sales_tax\n",
    "total_purchase = total_sales_tax + amount"
   ]
  },
  {
   "cell_type": "code",
   "execution_count": null,
   "metadata": {},
   "outputs": [],
   "source": [
    "# Print out all of the result\n",
    "print(f\"Amount of purchase: {amount}\")\n",
    "print(f\"State sales tax   : {state_sales_tax}\")\n",
    "print(f\"Country sales tax : {country_sales_tax}\")\n",
    "print(f\"Total sales tax   : {total_sales_tax}\")\n",
    "print(f\"Total of purchase : {total_purchase}\")"
   ]
  }
 ],
 "metadata": {
  "kernelspec": {
   "display_name": "Python 3",
   "language": "python",
   "name": "python3"
  },
  "language_info": {
   "codemirror_mode": {
    "name": "ipython",
    "version": 3
   },
   "file_extension": ".py",
   "mimetype": "text/x-python",
   "name": "python",
   "nbconvert_exporter": "python",
   "pygments_lexer": "ipython3",
   "version": "3.8.5"
  }
 },
 "nbformat": 4,
 "nbformat_minor": 4
}
