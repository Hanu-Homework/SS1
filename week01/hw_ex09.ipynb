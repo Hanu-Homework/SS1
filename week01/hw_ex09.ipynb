{
 "cells": [
  {
   "cell_type": "code",
   "execution_count": null,
   "metadata": {},
   "outputs": [],
   "source": [
    "def to_fahrenheit(celcius: float) -> float:\n",
    "    \"\"\"\n",
    "    Return the Farenheit caculated basing on the given Celcius\n",
    "    \n",
    "    Args:\n",
    "        celcius (float): the celcius of the temperature\n",
    "    Returns:\n",
    "        float: the transformed fahrenheit version\n",
    "    \"\"\"\n",
    "    return celcius * 9 / 5 + 32"
   ]
  },
  {
   "cell_type": "code",
   "execution_count": null,
   "metadata": {},
   "outputs": [],
   "source": [
    "# Get the celcius degree from the user\n",
    "c = int(input(\"Enter the celcius: \"))"
   ]
  },
  {
   "cell_type": "code",
   "execution_count": null,
   "metadata": {},
   "outputs": [],
   "source": [
    "# Print out the fahrenheit version of the temperature\n",
    "print(f\">> Fahrenheit: {to_fahrenheit(c)}\")"
   ]
  }
 ],
 "metadata": {
  "kernelspec": {
   "display_name": "Python 3",
   "language": "python",
   "name": "python3"
  },
  "language_info": {
   "codemirror_mode": {
    "name": "ipython",
    "version": 3
   },
   "file_extension": ".py",
   "mimetype": "text/x-python",
   "name": "python",
   "nbconvert_exporter": "python",
   "pygments_lexer": "ipython3",
   "version": "3.8.5"
  }
 },
 "nbformat": 4,
 "nbformat_minor": 4
}
