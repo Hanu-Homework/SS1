{
 "cells": [
  {
   "cell_type": "code",
   "execution_count": null,
   "metadata": {},
   "outputs": [],
   "source": [
    "def calculate_mpg(miles: int, gallons: int) -> int:\n",
    "    \"\"\"\n",
    "    Return the MPG calculated basing on the number of miles and gallons\n",
    "    \n",
    "    Args:\n",
    "        miles (int): the number of miles\n",
    "        gallons (int): the number of gallons\n",
    "    Returns:\n",
    "        int: the MPG result\n",
    "    \"\"\"\n",
    "    return miles * gallons"
   ]
  },
  {
   "cell_type": "code",
   "execution_count": null,
   "metadata": {},
   "outputs": [],
   "source": [
    "# Get the number of miles from the user\n",
    "number_of_miles = int(input(\"Enter the number of miles: \"))"
   ]
  },
  {
   "cell_type": "code",
   "execution_count": null,
   "metadata": {},
   "outputs": [],
   "source": [
    "# Get the number of gallons from the user\n",
    "number_of_gallons = int(input(\"Enter the number of gallons of gas used: \"))"
   ]
  },
  {
   "cell_type": "code",
   "execution_count": null,
   "metadata": {},
   "outputs": [],
   "source": [
    "# Print out the MPG result\n",
    "print(f\">> MPG: {calculate_mpg(number_of_miles, number_of_gallons)}\")"
   ]
  }
 ],
 "metadata": {
  "kernelspec": {
   "display_name": "Python 3",
   "language": "python",
   "name": "python3"
  },
  "language_info": {
   "codemirror_mode": {
    "name": "ipython",
    "version": 3
   },
   "file_extension": ".py",
   "mimetype": "text/x-python",
   "name": "python",
   "nbconvert_exporter": "python",
   "pygments_lexer": "ipython3",
   "version": "3.8.5"
  }
 },
 "nbformat": 4,
 "nbformat_minor": 4
}
