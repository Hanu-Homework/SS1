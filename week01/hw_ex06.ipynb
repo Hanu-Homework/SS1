{
 "cells": [
  {
   "cell_type": "code",
   "execution_count": null,
   "metadata": {},
   "outputs": [],
   "source": [
    "def calculate_distance(speed: float, time: float) -> float:\n",
    "    \"\"\"\n",
    "    Return the distance calculated basing on the speed and time\n",
    "    \n",
    "    Args:\n",
    "        speed (float): the speed\n",
    "        time (float): the time\n",
    "    Returns:\n",
    "        float: the distance traveled\n",
    "    \"\"\"\n",
    "    return speed * time"
   ]
  },
  {
   "cell_type": "code",
   "execution_count": null,
   "metadata": {},
   "outputs": [],
   "source": [
    "# Declare the constant SPEED\n",
    "SPEED = 70"
   ]
  },
  {
   "cell_type": "code",
   "execution_count": null,
   "metadata": {},
   "outputs": [],
   "source": [
    "# Declare the hours to test\n",
    "hours = [6, 10, 15]"
   ]
  },
  {
   "cell_type": "code",
   "execution_count": null,
   "metadata": {},
   "outputs": [],
   "source": [
    "# Print out the result for each test cases\n",
    "for hour in hours:\n",
    "    print(f\"The distance the car will travel in {hour} hours: {calculate_distance(SPEED, hour)}\")"
   ]
  }
 ],
 "metadata": {
  "kernelspec": {
   "display_name": "Python 3",
   "language": "python",
   "name": "python3"
  },
  "language_info": {
   "codemirror_mode": {
    "name": "ipython",
    "version": 3
   },
   "file_extension": ".py",
   "mimetype": "text/x-python",
   "name": "python",
   "nbconvert_exporter": "python",
   "pygments_lexer": "ipython3",
   "version": "3.8.5"
  }
 },
 "nbformat": 4,
 "nbformat_minor": 4
}
