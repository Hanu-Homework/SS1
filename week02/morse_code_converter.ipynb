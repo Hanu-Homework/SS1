{
 "cells": [
  {
   "cell_type": "code",
   "execution_count": null,
   "metadata": {},
   "outputs": [],
   "source": [
    "# Dictionary representing the morse code chart \n",
    "MORSE_CODE_DICT = { 'A':'.-', 'B':'-...', \n",
    "                    'C':'-.-.', 'D':'-..', 'E':'.', \n",
    "                    'F':'..-.', 'G':'--.', 'H':'....', \n",
    "                    'I':'..', 'J':'.---', 'K':'-.-', \n",
    "                    'L':'.-..', 'M':'--', 'N':'-.', \n",
    "                    'O':'---', 'P':'.--.', 'Q':'--.-', \n",
    "                    'R':'.-.', 'S':'...', 'T':'-', \n",
    "                    'U':'..-', 'V':'...-', 'W':'.--', \n",
    "                    'X':'-..-', 'Y':'-.--', 'Z':'--..', \n",
    "                    '1':'.----', '2':'..---', '3':'...--', \n",
    "                    '4':'....-', '5':'.....', '6':'-....', \n",
    "                    '7':'--...', '8':'---..', '9':'----.', \n",
    "                    '0':'-----', ', ':'--..--', '.':'.-.-.-', \n",
    "                    '?':'..--..', '/':'-..-.', '-':'-....-', \n",
    "                    '(':'-.--.', ')':'-.--.-'} "
   ]
  },
  {
   "cell_type": "code",
   "execution_count": null,
   "metadata": {},
   "outputs": [],
   "source": [
    "def convert_to_morse_code(string: str) -> str:\n",
    "    \n",
    "    \"\"\"\n",
    "    Return the morse code version of a given string\n",
    "    \n",
    "    Args:\n",
    "        string (str): the string to be converted\n",
    "    Returns:\n",
    "        (str): the morse code version of the given string\n",
    "    \"\"\"\n",
    "    \n",
    "    # Using the global dictionary that has been declared outside this function\n",
    "    global MORSE_CODE_DICT\n",
    "    \n",
    "    # Return value\n",
    "    ret = \"\"\n",
    "    \n",
    "    # Iterate through all characters of the string\n",
    "    for char in string:\n",
    "        # If the morse code dictionary has the char key\n",
    "        try:\n",
    "            # Add the dictionary value corresponding to the key to the return value\n",
    "            ret += MORSE_CODE_DICT[char]\n",
    "        \n",
    "        # Else if the char key does not exist in the dictionary\n",
    "        except KeyError:\n",
    "            # If this character is the space character\n",
    "            if char == ' ':\n",
    "                # Add the space to the return value\n",
    "                ret += ' '\n",
    "            \n",
    "            # Else do nothing\n",
    "            \n",
    "    return ret"
   ]
  },
  {
   "cell_type": "code",
   "execution_count": null,
   "metadata": {},
   "outputs": [],
   "source": [
    "# Get the input string from the user\n",
    "raw = input(\"Enter a string to convert: \")"
   ]
  },
  {
   "cell_type": "code",
   "execution_count": null,
   "metadata": {},
   "outputs": [],
   "source": [
    "# Display the morse code version of the given string\n",
    "print(f\"Morse code version: {convert_to_morse_code(raw)}\")"
   ]
  }
 ],
 "metadata": {
  "kernelspec": {
   "display_name": "Python 3",
   "language": "python",
   "name": "python3"
  },
  "language_info": {
   "codemirror_mode": {
    "name": "ipython",
    "version": 3
   },
   "file_extension": ".py",
   "mimetype": "text/x-python",
   "name": "python",
   "nbconvert_exporter": "python",
   "pygments_lexer": "ipython3",
   "version": "3.8.5"
  }
 },
 "nbformat": 4,
 "nbformat_minor": 4
}
