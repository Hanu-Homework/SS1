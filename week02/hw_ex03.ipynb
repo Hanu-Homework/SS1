{
 "cells": [
  {
   "cell_type": "code",
   "execution_count": 1,
   "metadata": {},
   "outputs": [],
   "source": [
    "def translate_to_number(number_string: str):\n",
    "    \n",
    "    ret = \"\"\n",
    "    \n",
    "    A_ASCII_INDEX = ord(\"A\")\n",
    "    \n",
    "    number_string = number_string.upper()\n",
    "    \n",
    "    for char in number_string:\n",
    "        \n",
    "        if char == '-':\n",
    "            ret += '-'\n",
    "            \n",
    "        elif char >= '0' and char <= '9':\n",
    "            ret += char\n",
    "        else:\n",
    "            converted = (ord(char) - A_ASCII_INDEX) // 3 + 2\n",
    "\n",
    "            ret += str(converted)\n",
    "    \n",
    "    return ret"
   ]
  },
  {
   "cell_type": "code",
   "execution_count": 2,
   "metadata": {},
   "outputs": [
    {
     "name": "stdout",
     "output_type": "stream",
     "text": [
      "555-438-3663\n"
     ]
    }
   ],
   "source": [
    "print(translate_to_number(\"555-GET-FOOD\"))"
   ]
  }
 ],
 "metadata": {
  "kernelspec": {
   "display_name": "Python 3",
   "language": "python",
   "name": "python3"
  },
  "language_info": {
   "codemirror_mode": {
    "name": "ipython",
    "version": 3
   },
   "file_extension": ".py",
   "mimetype": "text/x-python",
   "name": "python",
   "nbconvert_exporter": "python",
   "pygments_lexer": "ipython3",
   "version": "3.8.5"
  }
 },
 "nbformat": 4,
 "nbformat_minor": 4
}
