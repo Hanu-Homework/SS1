{
 "cells": [
  {
   "cell_type": "code",
   "execution_count": null,
   "metadata": {},
   "outputs": [],
   "source": [
    "# Get the input number from the user\n",
    "num = int(input(\"Enter a number: \"))"
   ]
  },
  {
   "cell_type": "code",
   "execution_count": null,
   "metadata": {},
   "outputs": [],
   "source": [
    "def calculate_digits_sum(number: int) -> int:\n",
    "    \"\"\"\n",
    "    Return the sum of all digits in a number\n",
    "    \n",
    "    Args:\n",
    "        number (int): the input number\n",
    "    Returns:\n",
    "        (int) : the sum of all digits of the input number\n",
    "    \"\"\"\n",
    "    \n",
    "    # Return value\n",
    "    ret = 0\n",
    "    \n",
    "    while number != 0:\n",
    "        \n",
    "        # Extract the last digit number and add it to ret\n",
    "        ret += number % 10\n",
    "        \n",
    "        # Delete the last digit of the number\n",
    "        number //= 10\n",
    "        \n",
    "    return ret"
   ]
  },
  {
   "cell_type": "code",
   "execution_count": null,
   "metadata": {},
   "outputs": [],
   "source": [
    "# Print out the sum result\n",
    "print(f\"The sum of all digits of the number {num} is: {calculate_digits_sum(num)}\")"
   ]
  }
 ],
 "metadata": {
  "kernelspec": {
   "display_name": "Python 3",
   "language": "python",
   "name": "python3"
  },
  "language_info": {
   "codemirror_mode": {
    "name": "ipython",
    "version": 3
   },
   "file_extension": ".py",
   "mimetype": "text/x-python",
   "name": "python",
   "nbconvert_exporter": "python",
   "pygments_lexer": "ipython3",
   "version": "3.8.5"
  }
 },
 "nbformat": 4,
 "nbformat_minor": 4
}
